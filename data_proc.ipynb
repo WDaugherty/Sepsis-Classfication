{
  "cells": [
    {
      "cell_type": "markdown",
      "metadata": {
        "id": "view-in-github",
        "colab_type": "text"
      },
      "source": [
        "<a href=\"https://colab.research.google.com/github/WDaugherty/Sepsis-Classfication/blob/Test/data_proc.ipynb\" target=\"_parent\"><img src=\"https://colab.research.google.com/assets/colab-badge.svg\" alt=\"Open In Colab\"/></a>"
      ]
    },
    {
      "cell_type": "markdown",
      "metadata": {
        "id": "pkMGw2fyVugK"
      },
      "source": [
        "# Preprocessing\n",
        "\n",
        "*Here we will load in the data and do any sort of the pre-processing described in any of the papers*"
      ]
    },
    {
      "cell_type": "markdown",
      "metadata": {
        "id": "18_Nc-hekV08"
      },
      "source": [
        "## 1.0 Setup GDrive and Git"
      ]
    },
    {
      "cell_type": "code",
      "execution_count": 3,
      "metadata": {
        "colab": {
          "base_uri": "https://localhost:8080/"
        },
        "id": "F90zXrTAkV08",
        "outputId": "ba4a1d28-f025-4975-823f-2e67ebb2337a"
      },
      "outputs": [
        {
          "output_type": "stream",
          "name": "stdout",
          "text": [
            "Mounted at /content/gdrive\n"
          ]
        }
      ],
      "source": [
        "# Mount google drive\n",
        "from google.colab import drive\n",
        "drive.mount('/content/gdrive')"
      ]
    },
    {
      "cell_type": "code",
      "execution_count": 8,
      "metadata": {
        "id": "o6JpZLvpmK9p"
      },
      "outputs": [],
      "source": [
        "# Make sure your token is stored in a txt file at the location below.\n",
        "# This way there is no risk that you will push it to your repo\n",
        "# Never share your token with anyone, it is basically your github password!\n",
        "with open('/content/gdrive/MyDrive/info5375/token.txt') as f:\n",
        "    token = f.readline().strip()"
      ]
    },
    {
      "cell_type": "code",
      "execution_count": 11,
      "metadata": {
        "colab": {
          "base_uri": "https://localhost:8080/"
        },
        "id": "KLAp01aclYxm",
        "outputId": "e3026d0e-012b-4e53-a5d8-8828f4d7ca9c"
      },
      "outputs": [
        {
          "output_type": "stream",
          "name": "stdout",
          "text": [
            "mkdir: cannot create directory ‘/content/gdrive/MyDrive/info5375’: File exists\n",
            "fatal: destination path 'Sepsis-Classfication' already exists and is not an empty directory.\n",
            "/content/gdrive/MyDrive/info5375/Sepsis-Classfication\n",
            "Already on 'main'\n",
            "Your branch is up to date with 'origin/main'.\n",
            "Already up to date.\n",
            "/content/gdrive/MyDrive/info5375\n"
          ]
        }
      ],
      "source": [
        "# Clone your github repo\n",
        "YOUR_TOKEN = token\n",
        "BRANCH = \"main\"\n",
        "\n",
        "%mkdir /content/gdrive/MyDrive/info5375\n",
        "!git clone https://{YOUR_TOKEN}@github.com/WDaugherty/Sepsis-Classfication.git\n",
        "%cd /content/gdrive/MyDrive/info5375/Sepsis-Classfication\n",
        "!git checkout {BRANCH}\n",
        "!git pull\n",
        "%cd /content/gdrive/MyDrive/info5375\n",
        "\n",
        "PROJECT_ROOT = f\"/content/gdrive/MyDrive/info5375/Sepsis-Classfication\""
      ]
    },
    {
      "cell_type": "code",
      "execution_count": 12,
      "metadata": {
        "id": "N1ZF6Legof-5"
      },
      "outputs": [],
      "source": [
        "# This extension reloads all imports before running each cell\n",
        "%load_ext autoreload\n",
        "%autoreload 2"
      ]
    },
    {
      "cell_type": "markdown",
      "metadata": {
        "id": "bGzzi-siATEZ"
      },
      "source": [
        "\n",
        "### Import code dependencies"
      ]
    },
    {
      "cell_type": "code",
      "execution_count": 15,
      "metadata": {
        "colab": {
          "base_uri": "https://localhost:8080/"
        },
        "id": "WV8869MMAZKa",
        "outputId": "97e9dea2-43d1-47c0-b9fa-bc506cf07559"
      },
      "outputs": [
        {
          "output_type": "stream",
          "name": "stdout",
          "text": [
            "Packages Imported\n"
          ]
        }
      ],
      "source": [
        "from IPython.display import HTML, Audio\n",
        "from google.colab.output import eval_js\n",
        "from base64 import b64decode\n",
        "import numpy as np\n",
        "import io\n",
        "import matplotlib.pyplot as plt\n",
        "from matplotlib import cm\n",
        "import pickle\n",
        "import librosa\n",
        "import torch\n",
        "import torchaudio\n",
        "import matplotlib.pyplot as plt\n",
        "import IPython.display as ipd\n",
        "import torchaudio.transforms as T\n",
        "import torch.fft\n",
        "print(\"Packages Imported\")"
      ]
    }
  ],
  "metadata": {
    "colab": {
      "provenance": [],
      "include_colab_link": true
    },
    "interpreter": {
      "hash": "6290d9b57a680332df40e39afe9e6c93fe3f483ec5fe8c905358840db4c03cc9"
    },
    "kernelspec": {
      "display_name": "ece5545",
      "language": "python",
      "name": "ece5545"
    },
    "language_info": {
      "codemirror_mode": {
        "name": "ipython",
        "version": 3
      },
      "file_extension": ".py",
      "mimetype": "text/x-python",
      "name": "python",
      "nbconvert_exporter": "python",
      "pygments_lexer": "ipython3",
      "version": "3.7.11"
    }
  },
  "nbformat": 4,
  "nbformat_minor": 0
}